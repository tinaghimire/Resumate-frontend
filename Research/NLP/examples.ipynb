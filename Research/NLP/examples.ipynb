{
 "cells": [
  {
   "cell_type": "markdown",
   "metadata": {},
   "source": [
    "# Regular Expressions\n",
    "\n",
    "- re.match() checks for a match only at the beginning of the string, while re.search() checks for a match anywhere in the string.\n",
    "- re.findall() returns a list of all substrings that match a pattern.\n",
    "- re.finditer() returns an iterator of all substrings that match a pattern.\n",
    "- re.split() splits the string where there is a match and returns a list of strings where the splits have occurred.\n",
    "- re.search() returns a match object if the regex matches the string anywhere in the string, otherwise it returns None.\n",
    "\n",
    "<details>\n",
    "<summary><Strong>More functions</Strong></summary>\n",
    "\n",
    "re.subn() does the same thing as re.sub(), but returns a tuple of the new string and the number of substitutions made.\n",
    "\n",
    "re.sub() replaces all occurrences of the pattern in string with repl, substituting all occurrences unless max provided. This method returns the modified string.\n",
    "\n",
    "re.compile() compiles a regex into a regex object, which can be called with methods such as search() and findall().\n",
    "\n",
    "re.IGNORECASE or re.I makes the regex case-insensitive.\n",
    "\n",
    "re.VERBOSE or re.X allows whitespace and comments within the regex string to make it more readable.\n",
    "\n",
    "re.MULTILINE or re.M makes the regex match across multiple lines.\n",
    "\n",
    "re.DOTALL or re.S makes the . character match every character including the newline character.\n",
    "\n",
    "re.ASCII or re.A makes the regex only match ASCII characters.\n",
    "\n",
    "re.UNICODE or re.U makes the regex only match Unicode characters.\n",
    "\n",
    "re.DEBUG or re.X displays debugging information about the regex.\n",
    "\n",
    "re.escape() escapes all special characters in a string so that the string can be used in a regex pattern.\n",
    "\n",
    "re.purge() clears the regular expression cache.\n",
    "\n",
    "re.fullmatch() returns a match object if the regex matches the string completely, otherwise it returns None.\n",
    "</details>"
   ]
  },
  {
   "cell_type": "code",
   "execution_count": null,
   "metadata": {},
   "outputs": [],
   "source": [
    "import re\n",
    "\n",
    "# re.match(pattern, string, flags=0) # flags represent the matching mode i.e. ignorecase, multiline etc.\n",
    "re.match('abc', 'abcde') # match"
   ]
  },
  {
   "cell_type": "code",
   "execution_count": null,
   "metadata": {},
   "outputs": [],
   "source": [
    "re.match('abc', 'abxde')  # No match"
   ]
  },
  {
   "cell_type": "code",
   "execution_count": null,
   "metadata": {},
   "outputs": [],
   "source": [
    "re.match(r'^\\d{3}\\-\\d{3,8}$', '010-12345') # match"
   ]
  },
  {
   "cell_type": "markdown",
   "metadata": {},
   "source": [
    "'^' is used to negate a character class. It must be the first character in the character class.<br>\n",
    "'-' is used to specify a range of characters. It must be the first or last character in the character class.<br>\n",
    "'\\' is used to escape characters. It must be the first character in the character class.<br>"
   ]
  },
  {
   "cell_type": "code",
   "execution_count": null,
   "metadata": {},
   "outputs": [],
   "source": [
    "word_regex = r'\\w+'  # A word is made up of one or more of the characters a-z, A-Z, 0-9 and underscore.\n",
    "digit_regex = r'\\d+' # A digit is made up of one or more of the characters 0-9.\n",
    "space_regex = r'\\s' # A space is made up of one or more of the characters space, tab, newline and carriage return.\n",
    "wildcard_regex = r'.' # A wildcard is made up of one or more of any character except newline.\n",
    "greedymatch_regex = r'+' # Greedy match or greedymatch_regex = r'*'\n",
    "non_greedy_regex = r'+?' # Non-greedy match or non_greedy_regex = r'*?'\n",
    "nonspace_regex = r'\\S' # A nonspace is made up of one or more of any character except space, tab, newline and carriage return.\n",
    "nonword_regex = r'\\W' # A nonword is made up of one or more of any character except a-z, A-Z, 0-9 and underscore.\n",
    "non_digit_regex = r'\\D' # A non-digit is made up of one or more of any character except 0-9.\n",
    "lowercase_regex = r'[a-z]' # A lowercase letter is made up of one or more of the characters a-z.\n",
    "uppercase_regex = r'[A-Z]' # An uppercase letter is made up of one or more of the characters A-Z.\n",
    "letter_regex = r'[a-zA-Z]' # A letter is made up of one or more of the characters a-z or A-Z.\n",
    "alphanumeric_regex = r'[a-zA-Z0-9]' # An alphanumeric character is made up of one or more of the characters a-z, A-Z or 0-9.\n",
    "not_letter_regex = r'[^a-zA-Z]' # A non-letter is made up of one or more of any character except a-z or A-Z.\n",
    "not_alphanumeric_regex = r'[^a-zA-Z0-9]' # A non-alphanumeric character is made up of one or more of any character except a-z, A-Z or 0-9.\n",
    "beginning_regex = r'^Hello' # The string must begin with Hello.\n",
    "end_regex = r'world!$' # The string must end with world!."
   ]
  },
  {
   "cell_type": "code",
   "execution_count": null,
   "metadata": {},
   "outputs": [],
   "source": [
    "re.match(word_regex, 'hi there!') # match"
   ]
  },
  {
   "cell_type": "code",
   "execution_count": null,
   "metadata": {},
   "outputs": [],
   "source": [
    "my_string = \"Let's write RegEx!  Won't that be fun?  I sure think so.  Can you find 4 sentences?  Or perhaps, all 19 words?\"\n",
    "\n",
    "# Write a pattern to match sentence endings: sentence_endings\n",
    "sentence_endings = r\"[.?!]\"\n",
    "\n",
    "# Split my_string on sentence endings and print the result\n",
    "print(re.split(sentence_endings, my_string))\n",
    "\n",
    "# Find all capitalized words in my_string and print the result\n",
    "capitalized_words = r\"[A-Z]\\w+\"\n",
    "print(re.findall(capitalized_words, my_string))\n",
    "\n",
    "# Split my_string on spaces and print the result\n",
    "spaces = r\"\\s+\"\n",
    "print(re.split(spaces, my_string))\n",
    "\n",
    "# Find all digits in my_string and print the result\n",
    "digits = r\"\\d+\"\n",
    "print(re.findall(digits, my_string))\n"
   ]
  },
  {
   "cell_type": "markdown",
   "metadata": {},
   "source": [
    "# NLTK Library"
   ]
  },
  {
   "cell_type": "code",
   "execution_count": null,
   "metadata": {},
   "outputs": [],
   "source": [
    "from nltk.tokenize import regexp_tokenize\n",
    "from nltk.tokenize import TweetTokenizer\n",
    "from nltk.tokenize import word_tokenize\n",
    "from nltk.tokenize import sent_tokenize\n",
    "\n",
    "# Splitting strings on whitespace\n",
    "word_tokenize('Hi there!')\n"
   ]
  },
  {
   "cell_type": "code",
   "execution_count": null,
   "metadata": {},
   "outputs": [],
   "source": [
    "# Import necessary modules\n",
    "from nltk.tokenize import word_tokenize\n",
    "from nltk.tokenize import sent_tokenize\n",
    "scene_one =\"SCENE 1: [wind] [clop clop clop] \\nKING ARTHUR: Whoa there!  [clop clop clop] \\nSOLDIER #1: Halt!  Who goes there?\\nARTHUR: It is I, Arthur, son of Uther Pendragon, from the castle of Camelot.  King of the Britons, defeator of the Saxons, sovereign of all England!\\nSOLDIER #1: Pull the other one!\\nARTHUR: I am, ...  and this is my trusty servant Patsy.  We have ridden the length and breadth of the land in search of knights who will join me in my court at Camelot.  I must speak with your lord and master.\\nSOLDIER #1: What?  Ridden on a horse?\\nARTHUR: Yes!\\nSOLDIER #1: You're using coconuts!\\nARTHUR: What?\\nSOLDIER #1: You've got two empty halves of coconut and you're bangin' 'em together.\\nARTHUR: So?  We have ridden since the snows of winter covered this land, through the kingdom of Mercea, through--\\nSOLDIER #1: Where'd you get the coconuts?\\nARTHUR: We found them.\\nSOLDIER #1: Found them?  In Mercea?  The coconut's tropical!\\nARTHUR: What do you mean?\\nSOLDIER #1: Well, this is a temperate zone.\\nARTHUR: The swallow may fly south with the sun or the house martin or the plover may seek warmer climes in winter, yet these are not strangers to our land?\\nSOLDIER #1: Are you suggesting coconuts migrate?\\nARTHUR: Not at all.  They could be carried.\\nSOLDIER #1: What?  A swallow carrying a coconut?\\nARTHUR: It could grip it by the husk!\\nSOLDIER #1: It's not a question of where he grips it!  It's a simple question of weight ratios!  A five ounce bird could not carry a one pound coconut.\\nARTHUR: Well, it doesn't matter.  Will you go and tell your master that Arthur from the Court of Camelot is here.\\nSOLDIER #1: Listen.  In order to maintain air-speed velocity, a swallow needs to beat its wings forty-three times every second, right?\\nARTHUR: Please!\\nSOLDIER #1: Am I right?\\nARTHUR: I'm not interested!\\nSOLDIER #2: It could be carried by an African swallow!\\nSOLDIER #1: Oh, yeah, an African swallow maybe, but not a European swallow.  That's my point.\\nSOLDIER #2: Oh, yeah, I agree with that.\\nARTHUR: Will you ask your master if he wants to join my court at Camelot?!\\nSOLDIER #1: But then of course a-- African swallows are non-migratory.\\nSOLDIER #2: Oh, yeah...\\nSOLDIER #1: So they couldn't bring a coconut back anyway...  [clop clop clop] \\nSOLDIER #2: Wait a minute!  Supposing two swallows carried it together?\\nSOLDIER #1: No, they'd have to have it on a line.\\nSOLDIER #2: Well, simple!  They'd just use a strand of creeper!\\nSOLDIER #1: What, held under the dorsal guiding feathers?\\nSOLDIER #2: Well, why not?\\n\"\n",
    "\n",
    "# Split scene_one into sentences: sentences\n",
    "sentences = sent_tokenize(scene_one)\n",
    "\n",
    "# Use word_tokenize to tokenize the fourth sentence: tokenized_sent\n",
    "tokenized_sent = word_tokenize(sentences[3])\n",
    "\n",
    "# Make a set of unique tokens in the entire scene: unique_tokens\n",
    "unique_tokens = set(word_tokenize(scene_one))\n",
    "\n",
    "# Print the unique tokens result\n",
    "print(unique_tokens)"
   ]
  },
  {
   "cell_type": "code",
   "execution_count": null,
   "metadata": {},
   "outputs": [],
   "source": [
    "# Search for the first occurrence of \"coconuts\" in scene_one: match\n",
    "match = re.search(\"coconuts\", scene_one)\n",
    "\n",
    "# Print the start and end indexes of match\n",
    "print(match.start(), match.end())\n",
    "\n",
    "# Write a regular expression to search for anything in square brackets: pattern1\n",
    "pattern1 = r\"\\[.*\\]\"\n",
    "\n",
    "# Use re.search to find the first text in square brackets\n",
    "print(re.search(pattern1, scene_one))\n",
    "\n",
    "# Find the script notation at the beginning of the fourth sentence and print it\n",
    "pattern2 = r\"[a-zA-Z]+:\"\n",
    "print(re.match(pattern2, sentences[3]))"
   ]
  },
  {
   "cell_type": "markdown",
   "metadata": {},
   "source": [
    "# Advanced tokenization with NLTK and regex\n",
    "\n",
    "- OR is represented using |\n",
    "- You can define a group using ()\n",
    "- You can define explicit character ranges using []"
   ]
  },
  {
   "cell_type": "code",
   "execution_count": 1,
   "metadata": {},
   "outputs": [
    {
     "name": "stderr",
     "output_type": "stream",
     "text": [
      "<>:3: SyntaxWarning: invalid escape sequence '\\d'\n",
      "<>:3: SyntaxWarning: invalid escape sequence '\\d'\n",
      "C:\\Users\\ghimi\\AppData\\Local\\Temp\\ipykernel_13596\\3903185733.py:3: SyntaxWarning: invalid escape sequence '\\d'\n",
      "  match_digits_and_words = ('(\\d+|\\w+)')\n"
     ]
    },
    {
     "data": {
      "text/plain": [
       "['He', 'has', '11', 'cats']"
      ]
     },
     "execution_count": 1,
     "metadata": {},
     "output_type": "execute_result"
    }
   ],
   "source": [
    "import re\n",
    "\n",
    "match_digits_and_words = ('(\\d+|\\w+)')\n",
    "re.findall(match_digits_and_words, 'He has 11 cats.')\n",
    "\n",
    "upper_lowercase_alphabet = ('[a-zA-Z]+')\n",
    "numbers = ('\\d+') or ('[0-9]+')\n",
    "non_alphanumeric = ('\\W+') or ('[^a-zA-Z0-9]+')\n",
    "upper_lowercase_alphabet_with = ('[a-zA-Z\\-\\.]+')\n",
    "email = ('\\w+@\\w+\\.\\w+')\n",
    "space_comma = ('[\\s+|,]+')"
   ]
  },
  {
   "cell_type": "code",
   "execution_count": 7,
   "metadata": {},
   "outputs": [
    {
     "name": "stderr",
     "output_type": "stream",
     "text": [
      "<>:7: SyntaxWarning: invalid escape sequence '\\w'\n",
      "<>:7: SyntaxWarning: invalid escape sequence '\\w'\n",
      "C:\\Users\\ghimi\\AppData\\Local\\Temp\\ipykernel_13596\\505758498.py:7: SyntaxWarning: invalid escape sequence '\\w'\n",
      "  regexp_tokenize('Hello World!', '\\w+')\n"
     ]
    },
    {
     "data": {
      "text/plain": [
       "['Hello', 'World']"
      ]
     },
     "execution_count": 7,
     "metadata": {},
     "output_type": "execute_result"
    }
   ],
   "source": [
    "import nltk\n",
    "from nltk.tokenize import regexp_tokenize\n",
    "from nltk.tokenize import TweetTokenizer\n",
    "from nltk.tokenize import word_tokenize\n",
    "from nltk.tokenize import sent_tokenize\n",
    "\n",
    "regexp_tokenize('Hello World!', '\\w+')\n",
    "# word_tokenize('Hello World!', preserve_line=True)"
   ]
  },
  {
   "cell_type": "code",
   "execution_count": 11,
   "metadata": {},
   "outputs": [
    {
     "name": "stdout",
     "output_type": "stream",
     "text": [
      "None\n"
     ]
    }
   ],
   "source": [
    "my_str = 'Match lowercase spaces nums lik 12, but no commas.'\n",
    "re.match('[a-z0-9 ]+', my_str)"
   ]
  },
  {
   "cell_type": "markdown",
   "metadata": {},
   "source": [
    "## Charting word length with NLTK"
   ]
  },
  {
   "cell_type": "code",
   "execution_count": 13,
   "metadata": {},
   "outputs": [
    {
     "data": {
      "image/png": "[encoded data removed]",
      "text/plain": [
       "<Figure size 640x480 with 1 Axes>"
      ]
     },
     "metadata": {},
     "output_type": "display_data"
    }
   ],
   "source": [
    "from matplotlib import pyplot as plt\n",
    "plt.hist([1, 5, 5, 7, 7, 7, 7, 9])\n",
    "plt.show()"
   ]
  },
  {
   "cell_type": "code",
   "execution_count": 15,
   "metadata": {},
   "outputs": [
    {
     "data": {
      "text/plain": [
       "(array([2., 0., 1., 0., 0., 0., 3., 0., 0., 1.]),\n",
       " array([1. , 1.5, 2. , 2.5, 3. , 3.5, 4. , 4.5, 5. , 5.5, 6. ]),\n",
       " <BarContainer object of 10 artists>)"
      ]
     },
     "execution_count": 15,
     "metadata": {},
     "output_type": "execute_result"
    },
    {
     "data": {
      "image/png": "[encoded data removed]",
      "text/plain": [
       "<Figure size 640x480 with 1 Axes>"
      ]
     },
     "metadata": {},
     "output_type": "display_data"
    }
   ],
   "source": [
    "from matplotlib import pyplot as plt\n",
    "from nltk.tokenize import word_tokenize\n",
    "\n",
    "words = word_tokenize(\"This is a pretty cool tool!\", preserve_line=True)\n",
    "words_length = [len(w) for w in words]\n",
    "plt.hist(words_length)"
   ]
  },
  {
   "cell_type": "code",
   "execution_count": 5,
   "metadata": {},
   "outputs": [
    {
     "name": "stderr",
     "output_type": "stream",
     "text": [
      "<>:11: SyntaxWarning: invalid escape sequence '\\s'\n",
      "<>:15: SyntaxWarning: invalid escape sequence '\\w'\n",
      "<>:11: SyntaxWarning: invalid escape sequence '\\s'\n",
      "<>:15: SyntaxWarning: invalid escape sequence '\\w'\n",
      "C:\\Users\\ghimi\\AppData\\Local\\Temp\\ipykernel_16980\\1315141130.py:11: SyntaxWarning: invalid escape sequence '\\s'\n",
      "  pattern = \"[A-Z]{2,}(\\s)?(#\\d)?([A-Z]{2,})?:\"\n",
      "C:\\Users\\ghimi\\AppData\\Local\\Temp\\ipykernel_16980\\1315141130.py:15: SyntaxWarning: invalid escape sequence '\\w'\n",
      "  tokenized_lines = [regexp_tokenize(s, '\\w+') for s in lines]\n"
     ]
    },
    {
     "data": {
      "image/png": "[encoded data removed]",
      "text/plain": [
       "<Figure size 640x480 with 1 Axes>"
      ]
     },
     "metadata": {},
     "output_type": "display_data"
    }
   ],
   "source": [
    "import re\n",
    "from nltk.tokenize import regexp_tokenize\n",
    "from matplotlib import pyplot as plt\n",
    "\n",
    "holy_grail = \"SCENE 1: [wind] [clop clop clop] \\nKING ARTHUR: Whoa there!  [clop clop clop] \\nSOLDIER #1: Halt!  Who goes there?\\nARTHUR: It is I, Arthur, son of Uther Pendragon, from the castle of Camelot.  King of the Britons, defeator of the Saxons, sovereign of all England!\\nSOLDIER #1: Pull the other one!\\nARTHUR: I am, ...  and this is my trusty servant Patsy.  We have ridden the length and breadth of the land in search of knights who will join me in my court at Camelot.  I must speak with your lord and master.\\nSOLDIER #1: What?  Ridden on a horse?\\nARTHUR: Yes!\\nSOLDIER #1: You're using coconuts!\\nARTHUR: What?\\nSOLDIER #1: You've got two empty halves of coconut and you're bangin' 'em together.\\nARTHUR: So?  We have ridden since the snows of winter covered this land, through the kingdom of Mercea, through--\\nSOLDIER #1: Where'd you get the coconuts?\\nARTHUR: We found them.\\nSOLDIER #1: Found them?  In Mercea?\"\n",
    "\n",
    "# Split the script into lines: lines\n",
    "lines = holy_grail.split('\\n')\n",
    "\n",
    "# Replace all script lines for speaker\n",
    "pattern = \"[A-Z]{2,}(\\s)?(#\\d)?([A-Z]{2,})?:\"\n",
    "lines = [re.sub(pattern, '', l) for l in lines]\n",
    "\n",
    "# Tokenize each line: tokenized_lines\n",
    "tokenized_lines = [regexp_tokenize(s, '\\w+') for s in lines]\n",
    "\n",
    "# Make a frequency list of lengths: line_num_words\n",
    "line_num_words = [len(t_line) for t_line in tokenized_lines]\n",
    "\n",
    "# Plot a histogram of the line lengths\n",
    "plt.hist(line_num_words)\n",
    "\n",
    "# Show the plot\n",
    "plt.show()"
   ]
  },
  {
   "cell_type": "markdown",
   "metadata": {},
   "source": [
    "## Word Counts with bag-of-words\n",
    "\n",
    "- Basic methods for finding topics in a text\n",
    "- The most frequent a word, the more important it might be"
   ]
  },
  {
   "cell_type": "code",
   "execution_count": 7,
   "metadata": {},
   "outputs": [
    {
     "name": "stdout",
     "output_type": "stream",
     "text": [
      "Counter({'The': 3, 'cat': 3, 'the': 3, 'is': 2, 'box.': 2, 'in': 1, 'likes': 1, 'box': 1, 'over': 1, '.': 1})\n"
     ]
    },
    {
     "data": {
      "text/plain": [
       "[('The', 3), ('cat', 3)]"
      ]
     },
     "execution_count": 7,
     "metadata": {},
     "output_type": "execute_result"
    }
   ],
   "source": [
    "from nltk.tokenize import word_tokenize\n",
    "from collections import Counter\n",
    "\n",
    "# Counter is a dictionary subclass for counting hashable objects. \n",
    "# It is an unordered collection where elements are stored as dictionary keys and their counts are stored as dictionary values.\n",
    "\n",
    "counter = Counter(word_tokenize(\"\"\"The cat is in the box. The cat likes the box. The box is over the cat.\"\"\", preserve_line=True))\t\n",
    "print(counter)  # Counter({'The': 3, 'the': 3, 'cat': 3, 'box': 3, '.': 3, 'is': 2, 'in': 1, 'likes': 1, 'over': 1})\n",
    "counter.most_common(2)  # [('The', 3), ('cat', 3)]  # 2 most common words"
   ]
  },
  {
   "cell_type": "code",
   "execution_count": 11,
   "metadata": {},
   "outputs": [],
   "source": [
    "article = '\\'\\'\\'Debugging\\'\\'\\' is the process of finding and resolving of defects that prevent correct operation of computer software or a system.  \\n\\nNumerous books have been written about debugging (see below: #Further reading|Further reading), as it involves numerous aspects, including interactive debugging, control flow, integration testing, Logfile|log files, monitoring (Application monitoring|application, System Monitoring|system), memory dumps, Profiling (computer programming)|profiling, Statistical Process Control, and special design tactics to improve detection while simplifying changes.\\n\\nOrigin\\nA computer log entry from the Mark&nbsp;II, with a moth taped to the page\\n\\nThe terms \"bug\" and \"debugging\" are popularly attributed to Admiral Grace Hopper in the 1940s.15}}\\n'\n"
   ]
  },
  {
   "cell_type": "code",
   "execution_count": 13,
   "metadata": {},
   "outputs": [
    {
     "name": "stdout",
     "output_type": "stream",
     "text": [
      "[(',', 12), ('the', 5), (\"''\", 4), ('of', 3), ('and', 3), ('computer', 3), ('a', 3), ('debugging', 3), ('(', 3), (')', 3)]\n"
     ]
    }
   ],
   "source": [
    "# Import Counter\n",
    "from collections import Counter\n",
    "\n",
    "# Tokenize the article: tokens\n",
    "tokens = word_tokenize(article, preserve_line=True)\n",
    "\n",
    "# Convert the tokens into lowercase: lower_tokens\n",
    "lower_tokens = [t.lower() for t in tokens]\n",
    "\n",
    "# Create a Counter with the lowercase tokens: bow_simple\n",
    "bow_simple = Counter(lower_tokens)\n",
    "\n",
    "# Print the 10 most common tokens\n",
    "print(bow_simple.most_common(10))"
   ]
  },
  {
   "cell_type": "markdown",
   "metadata": {},
   "source": [
    "## Simple Text Preprocessing\n",
    "\n",
    "- Helps make for better input data\n",
    "\n",
    "examples:\n",
    "- Tokenization to create a bag of words\n",
    "- Lowercasing words\n",
    "- Lemmatization / Stemming\n",
    "  - Shorten words to their root stems\n",
    "- Removing stop words, punctuation, or unwanted tokens"
   ]
  },
  {
   "cell_type": "code",
   "execution_count": 17,
   "metadata": {},
   "outputs": [
    {
     "data": {
      "text/plain": [
       "[('cat', 3), ('likes', 1)]"
      ]
     },
     "execution_count": 17,
     "metadata": {},
     "output_type": "execute_result"
    }
   ],
   "source": [
    "## Text preprocessing with Python\n",
    "\n",
    "from nltk.corpus import stopwords\n",
    "from nltk.tokenize import word_tokenize\n",
    "from collections import Counter\n",
    "\n",
    "text = \"The cat is in the box. The cat likes the box. The box is over the cat.\"\n",
    "# isaplha() method returns True if all characters in the string are alphabets. If not, it returns False.\n",
    "tokens = [w for w in word_tokenize(text.lower(), preserve_line=True) if w.isalpha()]  \n",
    "no_stops = [t for t in tokens if t not in stopwords.words('english')]\n",
    "Counter(no_stops).most_common(2)  # [('cat', 3), ('box', 3)]"
   ]
  }
 ],
 "metadata": {
  "kernelspec": {
   "display_name": "Python 3",
   "language": "python",
   "name": "python3"
  },
  "language_info": {
   "codemirror_mode": {
    "name": "ipython",
    "version": 3
   },
   "file_extension": ".py",
   "mimetype": "text/x-python",
   "name": "python",
   "nbconvert_exporter": "python",
   "pygments_lexer": "ipython3",
   "version": "3.12.0"
  }
 },
 "nbformat": 4,
 "nbformat_minor": 2
}
